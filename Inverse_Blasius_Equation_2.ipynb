{
  "nbformat": 4,
  "nbformat_minor": 0,
  "metadata": {
    "colab": {
      "provenance": []
    },
    "kernelspec": {
      "name": "python3",
      "display_name": "Python 3"
    },
    "language_info": {
      "name": "python"
    }
  },
  "cells": [
    {
      "cell_type": "code",
      "execution_count": null,
      "metadata": {
        "id": "gJKeLvF6lmqj"
      },
      "outputs": [],
      "source": [
        "import numpy\n",
        "import math\n",
        "import torch\n",
        "import torch.nn as nn\n",
        "import matplotlib.pyplot as plt\n",
        "import pandas as pd\n",
        "from google.colab import drive"
      ]
    },
    {
      "cell_type": "code",
      "source": [
        "# from google.colab import files\n",
        "# uploaded = files.upload()"
      ],
      "metadata": {
        "id": "fXP8CB4LMHwu"
      },
      "execution_count": null,
      "outputs": []
    },
    {
      "cell_type": "code",
      "source": [
        "## Neural network class\n",
        "class PINN(nn.Module):\n",
        "  def __init__(self, input_size, hidden_size, output_size, num_layers):\n",
        "    super(PINN, self).__init__()\n",
        "    activation = nn.Tanh\n",
        "    self.input_layer = nn.Linear(input_size, hidden_size)\n",
        "    self.hidden_layers = nn.ModuleList([nn.Sequential(nn.Linear(hidden_size, hidden_size),activation()) for _ in range(num_layers)])\n",
        "    self.output_layer = nn.Linear(hidden_size, output_size)\n",
        "\n",
        "  def forward(self, x):\n",
        "    output = torch.tanh(self.input_layer(x))\n",
        "    for layer in self.hidden_layers:\n",
        "      output = layer(output)\n",
        "    theta = self.output_layer(output)\n",
        "    theta_prime = torch.autograd.grad(theta, x, torch.ones_like(theta),create_graph=True)[0]\n",
        "    theta_double_prime = torch.autograd.grad(theta_prime, x, torch.ones_like(theta),create_graph=True)[0]\n",
        "    return theta, theta_prime, theta_double_prime"
      ],
      "metadata": {
        "id": "CfAH8GJSwdRN"
      },
      "execution_count": null,
      "outputs": []
    },
    {
      "cell_type": "code",
      "source": [
        "## Actual Data\n",
        "file_path = '/content/bl_convection.txt'\n",
        "delimiter = '    '\n",
        "selected_columns = [0, 1, 4, 5]\n",
        "selected_data = []\n",
        "\n",
        "with open(file_path, 'r') as file:\n",
        "    for line_number, line in enumerate(file, 1):\n",
        "        columns = line.strip().split('    ')\n",
        "        selected_values = [columns[i] for i in selected_columns]\n",
        "        selected_data.append(selected_values)\n",
        "column_names = ['eta', 'f', 'theta', 'theta_prime']\n",
        "df_selected = pd.DataFrame(selected_data, columns=column_names)"
      ],
      "metadata": {
        "id": "zC-IsOSLJJHg"
      },
      "execution_count": null,
      "outputs": []
    },
    {
      "cell_type": "code",
      "source": [
        "df_copy  = df_selected\n",
        "df_copy = df_copy.astype(str)"
      ],
      "metadata": {
        "id": "oS384hpg1rDD"
      },
      "execution_count": null,
      "outputs": []
    },
    {
      "cell_type": "code",
      "source": [
        "def apply(val):\n",
        "  val_copy = val.split('D')\n",
        "  return float(val_copy[0])*(10**(float(val_copy[1])))"
      ],
      "metadata": {
        "id": "NOtLaHMN4G1x"
      },
      "execution_count": null,
      "outputs": []
    },
    {
      "cell_type": "code",
      "source": [
        "df_copy = df_copy.applymap(apply)"
      ],
      "metadata": {
        "id": "IfJQQMPPsZWM"
      },
      "execution_count": null,
      "outputs": []
    },
    {
      "cell_type": "code",
      "source": [
        "column_arrays = [df_copy.iloc[:, i].to_numpy() for i in range(df_selected.shape[1])]\n",
        "column_1_array = column_arrays[0]\n",
        "column_2_array = column_arrays[1]\n",
        "column_3_array = column_arrays[2]\n",
        "column_4_array = column_arrays[3]\n",
        "column_1_array = column_1_array[::1000]\n",
        "column_2_array = column_2_array[::1000]\n",
        "column_3_array = column_3_array[::1000]\n",
        "column_4_array = column_4_array[::1000]\n",
        "eta = torch.tensor(column_1_array, dtype=torch.float32).reshape(1001,1).view(-1, 1)\n",
        "f = torch.tensor(column_2_array, dtype=torch.float32).reshape(1001,1).view(-1, 1)\n",
        "theta = torch.tensor(column_3_array, dtype=torch.float32).reshape(1001,1).view(-1, 1)\n",
        "theta_prime = torch.tensor(column_4_array, dtype=torch.float32).reshape(1001,1).view(-1, 1)\n",
        "# theta_prime = torch.autograd.grad(theta, eta, torch.ones_like(theta),create_graph=True,retain_graph=True)[0]\n",
        "# theta_double_prime = torch.autograd.grad(theta_prime, eta, torch.ones_like(theta),create_graph=True)[0]"
      ],
      "metadata": {
        "id": "ZBxuIJlr6PXa"
      },
      "execution_count": null,
      "outputs": []
    },
    {
      "cell_type": "code",
      "source": [
        "## Defining the PDE\n",
        "def equation_2(theta, theta_x, theta_xx, x, f, Pr):\n",
        "    return Pr*theta_x*0.5*f + theta_xx"
      ],
      "metadata": {
        "id": "ps9BzfKLDE-b"
      },
      "execution_count": null,
      "outputs": []
    },
    {
      "cell_type": "code",
      "source": [
        "## PDE training data\n",
        "x_train1 = eta\n",
        "x_train1 = x_train1.requires_grad_(True)"
      ],
      "metadata": {
        "id": "C6JKMVU9xhHb"
      },
      "execution_count": null,
      "outputs": []
    },
    {
      "cell_type": "code",
      "source": [
        "def boundary_conditions_loss1(theta_train, x):\n",
        "    # Boundary condition at eta=0:\n",
        "    loss_bc_0 = torch.mean((theta_train[0])**2)\n",
        "    # Boundary condition at eta=inf:\n",
        "    loss_bc_inf = torch.mean((theta_train[-1] - 1)**2)\n",
        "    return loss_bc_0 + loss_bc_inf"
      ],
      "metadata": {
        "id": "GSP9_-rcyAss"
      },
      "execution_count": null,
      "outputs": []
    },
    {
      "cell_type": "code",
      "source": [
        "## Initialization of PINN\n",
        "Pr = torch.tensor([0.5], requires_grad=True)\n",
        "torch.manual_seed(69)\n",
        "pinn = PINN(1,40,1,10)\n",
        "parameters = [\n",
        "    {'params': pinn.parameters(), 'lr': 0.0001},\n",
        "    {'params': [Pr], 'lr': 0.025}\n",
        "]\n",
        "optimizer = torch.optim.Adam(parameters)"
      ],
      "metadata": {
        "id": "1th8B141ysNq"
      },
      "execution_count": null,
      "outputs": []
    },
    {
      "cell_type": "code",
      "source": [
        "## Training Loop\n",
        "epochs = 5000\n",
        "loss_history = []\n",
        "for epoch in range(epochs):\n",
        "\n",
        "  optimizer.zero_grad()\n",
        "\n",
        "  theta_pred, theta_prime_pred, theta_double_prime_pred = pinn(x_train1)\n",
        "\n",
        "  Actual_loss = (theta-theta_pred).pow(2).mean() + (theta_prime-theta_prime_pred).pow(2).mean() ##+ (theta_double_prime-theta_double_prime_pred).pow(2).mean()\n",
        "\n",
        "  pde_loss = equation_2(theta, theta_prime, theta_double_prime_pred, x_train1, f, Pr).pow(2).mean()\n",
        "\n",
        "  boundary_condition_loss = boundary_conditions_loss1(theta, x_train1)\n",
        "\n",
        "  p1 = 1\n",
        "  p2 = 1\n",
        "  total_loss = pde_loss + p1*boundary_condition_loss + p2*Actual_loss\n",
        "\n",
        "  total_loss.backward(retain_graph=True)\n",
        "  optimizer.step()\n",
        "  loss_history.append(total_loss.item())\n",
        "  if epoch % 500 == 0:\n",
        "      print(f\"Epoch {epoch}/{epochs}, Total Loss: {total_loss.item()}, pde Loss: {pde_loss.item()}, Boundary Loss: {boundary_condition_loss.item()}, Actual Loss: {Actual_loss.item()}, Prandtl Number: {Pr.item()}\")"
      ],
      "metadata": {
        "colab": {
          "base_uri": "https://localhost:8080/"
        },
        "id": "OSdx0DRbytNt",
        "outputId": "5f0c0017-814c-4349-e412-9a7c2165081a"
      },
      "execution_count": null,
      "outputs": [
        {
          "output_type": "stream",
          "name": "stdout",
          "text": [
            "Epoch 0/5000, Total Loss: 0.617003858089447, pde Loss: 0.0009411813807673752, Boundary Loss: 0.0, Actual Loss: 0.6160627007484436, Prandtl Number: 0.4750000834465027\n",
            "Epoch 500/5000, Total Loss: 0.0006673437310382724, pde Loss: 0.00016585363482590765, Boundary Loss: 0.0, Actual Loss: 0.0005014900816604495, Prandtl Number: 0.6556669473648071\n",
            "Epoch 1000/5000, Total Loss: 0.0003620102652348578, pde Loss: 0.00013547179696615785, Boundary Loss: 0.0, Actual Loss: 0.00022653845371678472, Prandtl Number: 0.688346266746521\n",
            "Epoch 1500/5000, Total Loss: 0.00020320495241321623, pde Loss: 6.938819569768384e-05, Boundary Loss: 0.0, Actual Loss: 0.00013381676399149, Prandtl Number: 0.6927226185798645\n",
            "Epoch 2000/5000, Total Loss: 5.663074261974543e-05, pde Loss: 2.734536974458024e-05, Boundary Loss: 0.0, Actual Loss: 2.928537105617579e-05, Prandtl Number: 0.6978355646133423\n",
            "Epoch 2500/5000, Total Loss: 3.393969382159412e-05, pde Loss: 1.7527992895338684e-05, Boundary Loss: 0.0, Actual Loss: 1.6411700926255435e-05, Prandtl Number: 0.6966559886932373\n",
            "Epoch 3000/5000, Total Loss: 2.897359081543982e-05, pde Loss: 1.4495943105430342e-05, Boundary Loss: 0.0, Actual Loss: 1.4477646800514776e-05, Prandtl Number: 0.6963744759559631\n",
            "Epoch 3500/5000, Total Loss: 2.4065939214779064e-05, pde Loss: 1.2236886504979338e-05, Boundary Loss: 0.0, Actual Loss: 1.1829051800305024e-05, Prandtl Number: 0.696662187576294\n",
            "Epoch 4000/5000, Total Loss: 1.917380723170936e-05, pde Loss: 1.0084853784064762e-05, Boundary Loss: 0.0, Actual Loss: 9.088952538149897e-06, Prandtl Number: 0.6971392035484314\n",
            "Epoch 4500/5000, Total Loss: 1.4512421330437064e-05, pde Loss: 7.974691470735706e-06, Boundary Loss: 0.0, Actual Loss: 6.537729404954007e-06, Prandtl Number: 0.6976668834686279\n"
          ]
        }
      ]
    },
    {
      "cell_type": "code",
      "source": [
        "print(Pr.item())"
      ],
      "metadata": {
        "colab": {
          "base_uri": "https://localhost:8080/"
        },
        "id": "zoJDS3fCdF7Y",
        "outputId": "769ecb90-741d-4ae9-bded-827db8ecc4d2"
      },
      "execution_count": null,
      "outputs": [
        {
          "output_type": "stream",
          "name": "stdout",
          "text": [
            "0.69819575548172\n"
          ]
        }
      ]
    },
    {
      "cell_type": "code",
      "source": [
        "## Plot for Epoch vs Total Loss\n",
        "plt.plot(range(epochs), loss_history, label='Total Loss')\n",
        "plt.xlabel('Epoch')\n",
        "plt.ylabel('Total Loss')\n",
        "plt.title('Epoch vs Total Loss')\n",
        "plt.legend()\n",
        "plt.show()"
      ],
      "metadata": {
        "id": "_Y3wv9ko0q41",
        "colab": {
          "base_uri": "https://localhost:8080/",
          "height": 472
        },
        "outputId": "d668969a-4ef9-44e4-fa88-f0fcb52615d4"
      },
      "execution_count": null,
      "outputs": [
        {
          "output_type": "display_data",
          "data": {
            "text/plain": [
              "<Figure size 640x480 with 1 Axes>"
            ],
            "image/png": "[encoded data removed]"
          },
          "metadata": {}
        }
      ]
    },
    {
      "cell_type": "code",
      "source": [
        "column_arrays = [df_copy.iloc[:, i].to_numpy() for i in range(df_selected.shape[1])]\n",
        "column_1_array = column_arrays[0]\n",
        "column_2_array = column_arrays[1]\n",
        "column_3_array = column_arrays[2]\n",
        "column_4_array = column_arrays[3]\n",
        "column_1_array = column_1_array[::10000]\n",
        "column_2_array = column_2_array[::10000]\n",
        "column_3_array = column_3_array[::10000]\n",
        "column_4_array = column_4_array[::10000]\n",
        "eta = torch.tensor(column_1_array, dtype=torch.float32).reshape(101,1).view(-1, 1)\n",
        "f = torch.tensor(column_2_array, dtype=torch.float32).reshape(101,1).view(-1, 1)\n",
        "theta = torch.tensor(column_3_array, dtype=torch.float32).reshape(101,1).view(-1, 1)\n",
        "theta_prime = torch.tensor(column_4_array, dtype=torch.float32).reshape(101,1).view(-1, 1)"
      ],
      "metadata": {
        "id": "wPunym4Lasap"
      },
      "execution_count": null,
      "outputs": []
    },
    {
      "cell_type": "code",
      "source": [
        "x_train2 = eta\n",
        "x_train2 = x_train2.requires_grad_(True)"
      ],
      "metadata": {
        "id": "SVk71rYRbLuh"
      },
      "execution_count": null,
      "outputs": []
    },
    {
      "cell_type": "code",
      "source": [
        "## Initialization of PINN\n",
        "Pr = torch.tensor([0.5], requires_grad=True)\n",
        "torch.manual_seed(69)\n",
        "pinn2 = PINN(1,40,1,10)\n",
        "parameters2 = [\n",
        "    {'params': pinn2.parameters(), 'lr': 0.0001},\n",
        "    {'params': [Pr], 'lr': 0.025}\n",
        "]\n",
        "optimizer = torch.optim.Adam(parameters2)"
      ],
      "metadata": {
        "id": "pPVV1HUjbXM5"
      },
      "execution_count": null,
      "outputs": []
    },
    {
      "cell_type": "code",
      "source": [
        "## Training Loop\n",
        "epochs = 5000\n",
        "loss_history = []\n",
        "for epoch in range(epochs):\n",
        "\n",
        "  optimizer.zero_grad()\n",
        "\n",
        "  theta_pred, theta_prime_pred, theta_double_prime_pred = pinn2(x_train2)\n",
        "\n",
        "  Actual_loss = (theta-theta_pred).pow(2).mean() + (theta_prime-theta_prime_pred).pow(2).mean() ##+ (theta_double_prime-theta_double_prime_pred).pow(2).mean()\n",
        "\n",
        "  pde_loss = equation_2(theta, theta_prime, theta_double_prime_pred, x_train2, f, Pr).pow(2).mean()\n",
        "\n",
        "  boundary_condition_loss = boundary_conditions_loss1(theta, x_train2)\n",
        "\n",
        "  p1 = 1\n",
        "  p2 = 1\n",
        "  total_loss = pde_loss + p1*boundary_condition_loss + p2*Actual_loss\n",
        "\n",
        "  total_loss.backward(retain_graph=True)\n",
        "  optimizer.step()\n",
        "  loss_history.append(total_loss.item())\n",
        "  if epoch % 500 == 0:\n",
        "      print(f\"Epoch {epoch}/{epochs}, Total Loss: {total_loss.item()}, pde Loss: {pde_loss.item()}, Boundary Loss: {boundary_condition_loss.item()}, Actual Loss: {Actual_loss.item()}, Prandtl Number: {Pr.item()}\")"
      ],
      "metadata": {
        "colab": {
          "base_uri": "https://localhost:8080/"
        },
        "id": "gWifdYwsbghs",
        "outputId": "80950b34-d285-4f9e-db2f-75b7f93b4424"
      },
      "execution_count": null,
      "outputs": [
        {
          "output_type": "stream",
          "name": "stdout",
          "text": [
            "Epoch 0/5000, Total Loss: 0.6156319975852966, pde Loss: 0.0009327991283498704, Boundary Loss: 0.0, Actual Loss: 0.6146991848945618, Prandtl Number: 0.4750000834465027\n",
            "Epoch 500/5000, Total Loss: 0.0006745830178260803, pde Loss: 0.00017821439541876316, Boundary Loss: 0.0, Actual Loss: 0.0004963686224073172, Prandtl Number: 0.6574617624282837\n",
            "Epoch 1000/5000, Total Loss: 0.0003665823896881193, pde Loss: 0.000137275448651053, Boundary Loss: 0.0, Actual Loss: 0.00022930694103706628, Prandtl Number: 0.6878194212913513\n",
            "Epoch 1500/5000, Total Loss: 0.00019313357188366354, pde Loss: 6.492489774245769e-05, Boundary Loss: 0.0, Actual Loss: 0.00012820867414120585, Prandtl Number: 0.692782461643219\n",
            "Epoch 2000/5000, Total Loss: 4.9238493375014514e-05, pde Loss: 2.5726018066052347e-05, Boundary Loss: 0.0, Actual Loss: 2.3512475308962166e-05, Prandtl Number: 0.6980223059654236\n",
            "Epoch 2500/5000, Total Loss: 3.470398223726079e-05, pde Loss: 1.77625406649895e-05, Boundary Loss: 0.0, Actual Loss: 1.6941441572271287e-05, Prandtl Number: 0.6964737176895142\n",
            "Epoch 3000/5000, Total Loss: 2.9518061637645587e-05, pde Loss: 1.472573603678029e-05, Boundary Loss: 0.0, Actual Loss: 1.4792325600865297e-05, Prandtl Number: 0.6962453722953796\n",
            "Epoch 3500/5000, Total Loss: 2.439077798044309e-05, pde Loss: 1.2418754522514064e-05, Boundary Loss: 0.0, Actual Loss: 1.1972024367423728e-05, Prandtl Number: 0.6965875625610352\n",
            "Epoch 4000/5000, Total Loss: 1.9284259906271473e-05, pde Loss: 1.0167684195039328e-05, Boundary Loss: 0.0, Actual Loss: 9.116576620726846e-06, Prandtl Number: 0.6970974206924438\n",
            "Epoch 4500/5000, Total Loss: 1.441801396140363e-05, pde Loss: 7.930968422442675e-06, Boundary Loss: 0.0, Actual Loss: 6.487045538960956e-06, Prandtl Number: 0.6976308226585388\n"
          ]
        }
      ]
    },
    {
      "cell_type": "code",
      "source": [
        "print(Pr.item())"
      ],
      "metadata": {
        "colab": {
          "base_uri": "https://localhost:8080/"
        },
        "id": "1589wTPwbrUp",
        "outputId": "577bde67-9675-4f54-b953-11ddf45143d1"
      },
      "execution_count": null,
      "outputs": [
        {
          "output_type": "stream",
          "name": "stdout",
          "text": [
            "0.6982096433639526\n"
          ]
        }
      ]
    },
    {
      "cell_type": "code",
      "source": [
        "## Plot for Epoch vs Total Loss\n",
        "plt.plot(range(epochs), loss_history, label='Total Loss')\n",
        "plt.xlabel('Epoch')\n",
        "plt.ylabel('Total Loss')\n",
        "plt.title('Epoch vs Total Loss')\n",
        "plt.legend()\n",
        "plt.show()"
      ],
      "metadata": {
        "colab": {
          "base_uri": "https://localhost:8080/",
          "height": 472
        },
        "id": "Q_XC5VnBbsG3",
        "outputId": "71019e18-e18a-44b3-dd3d-7a0f61db1272"
      },
      "execution_count": null,
      "outputs": [
        {
          "output_type": "display_data",
          "data": {
            "text/plain": [
              "<Figure size 640x480 with 1 Axes>"
            ],
            "image/png": "[encoded data removed]"
          },
          "metadata": {}
        }
      ]
    },
    {
      "cell_type": "code",
      "source": [
        "column_arrays = [df_copy.iloc[:, i].to_numpy() for i in range(df_selected.shape[1])]\n",
        "column_1_array = column_arrays[0]\n",
        "column_2_array = column_arrays[1]\n",
        "column_3_array = column_arrays[2]\n",
        "column_4_array = column_arrays[3]\n",
        "column_1_array = column_1_array[::100000]\n",
        "column_2_array = column_2_array[::100000]\n",
        "column_3_array = column_3_array[::100000]\n",
        "column_4_array = column_4_array[::100000]\n",
        "eta = torch.tensor(column_1_array, dtype=torch.float32).reshape(11,1).view(-1, 1)\n",
        "f = torch.tensor(column_2_array, dtype=torch.float32).reshape(11,1).view(-1, 1)\n",
        "theta = torch.tensor(column_3_array, dtype=torch.float32).reshape(11,1).view(-1, 1)\n",
        "theta_prime = torch.tensor(column_4_array, dtype=torch.float32).reshape(11,1).view(-1, 1)"
      ],
      "metadata": {
        "id": "Xhg1ccssceQL"
      },
      "execution_count": null,
      "outputs": []
    },
    {
      "cell_type": "code",
      "source": [
        "x_train3 = eta\n",
        "x_train3 = x_train3.requires_grad_(True)"
      ],
      "metadata": {
        "id": "x3sjddBcclGb"
      },
      "execution_count": null,
      "outputs": []
    },
    {
      "cell_type": "code",
      "source": [
        "## Initialization of PINN\n",
        "Pr = torch.tensor([0.5], requires_grad=True)\n",
        "torch.manual_seed(69)\n",
        "pinn3 = PINN(1,40,1,10)\n",
        "parameters3 = [\n",
        "    {'params': pinn3.parameters(), 'lr': 0.0001},\n",
        "    {'params': [Pr], 'lr': 0.025}\n",
        "]\n",
        "optimizer = torch.optim.Adam(parameters3)"
      ],
      "metadata": {
        "id": "DDRl3twacpjF"
      },
      "execution_count": null,
      "outputs": []
    },
    {
      "cell_type": "code",
      "source": [
        "## Training Loop\n",
        "epochs = 5000\n",
        "loss_history = []\n",
        "for epoch in range(epochs):\n",
        "\n",
        "  optimizer.zero_grad()\n",
        "\n",
        "  theta_pred, theta_prime_pred, theta_double_prime_pred = pinn3(x_train3)\n",
        "\n",
        "  Actual_loss = (theta-theta_pred).pow(2).mean() + (theta_prime-theta_prime_pred).pow(2).mean() ##+ (theta_double_prime-theta_double_prime_pred).pow(2).mean()\n",
        "\n",
        "  pde_loss = equation_2(theta, theta_prime, theta_double_prime_pred, x_train3, f, Pr).pow(2).mean()\n",
        "\n",
        "  boundary_condition_loss = boundary_conditions_loss1(theta, x_train3)\n",
        "\n",
        "  p1 = 1\n",
        "  p2 = 1\n",
        "  total_loss = pde_loss + p1*boundary_condition_loss + p2*Actual_loss\n",
        "\n",
        "  total_loss.backward(retain_graph=True)\n",
        "  optimizer.step()\n",
        "  loss_history.append(total_loss.item())\n",
        "  if epoch % 500 == 0:\n",
        "      print(f\"Epoch {epoch}/{epochs}, Total Loss: {total_loss.item()}, pde Loss: {pde_loss.item()}, Boundary Loss: {boundary_condition_loss.item()}, Actual Loss: {Actual_loss.item()}, Prandtl Number: {Pr.item()}\")"
      ],
      "metadata": {
        "colab": {
          "base_uri": "https://localhost:8080/"
        },
        "id": "DUPnG4BGctRc",
        "outputId": "82a0d99f-4246-415b-daa3-b86ba87ee121"
      },
      "execution_count": null,
      "outputs": [
        {
          "output_type": "stream",
          "name": "stdout",
          "text": [
            "Epoch 0/5000, Total Loss: 0.6035098433494568, pde Loss: 0.0008564938325434923, Boundary Loss: 0.0, Actual Loss: 0.6026533246040344, Prandtl Number: 0.4750000834465027\n",
            "Epoch 500/5000, Total Loss: 0.0006941299070604146, pde Loss: 0.00016004806093405932, Boundary Loss: 0.0, Actual Loss: 0.00053408183157444, Prandtl Number: 0.6566222906112671\n",
            "Epoch 1000/5000, Total Loss: 0.0003174660378135741, pde Loss: 8.149932546075433e-05, Boundary Loss: 0.0, Actual Loss: 0.0002359666978009045, Prandtl Number: 0.6887845993041992\n",
            "Epoch 1500/5000, Total Loss: 0.00017012232274282724, pde Loss: 5.343713201000355e-05, Boundary Loss: 0.0, Actual Loss: 0.00011668518709484488, Prandtl Number: 0.6955053806304932\n",
            "Epoch 2000/5000, Total Loss: 5.302062345435843e-05, pde Loss: 2.6499579689698294e-05, Boundary Loss: 0.0, Actual Loss: 2.6521043764660135e-05, Prandtl Number: 0.6961843371391296\n",
            "Epoch 2500/5000, Total Loss: 4.1495553887216374e-05, pde Loss: 1.798413723008707e-05, Boundary Loss: 0.0, Actual Loss: 2.3511416657129303e-05, Prandtl Number: 0.692786455154419\n",
            "Epoch 3000/5000, Total Loss: 3.380818816367537e-05, pde Loss: 1.4416625162994023e-05, Boundary Loss: 0.0, Actual Loss: 1.9391562091186643e-05, Prandtl Number: 0.6920836567878723\n",
            "Epoch 3500/5000, Total Loss: 2.6226305635645986e-05, pde Loss: 1.1173185157531407e-05, Boundary Loss: 0.0, Actual Loss: 1.5053119568619877e-05, Prandtl Number: 0.6918121576309204\n",
            "Epoch 4000/5000, Total Loss: 1.9205926946597174e-05, pde Loss: 8.21616322355112e-06, Boundary Loss: 0.0, Actual Loss: 1.0989763723046053e-05, Prandtl Number: 0.6918011903762817\n",
            "Epoch 4500/5000, Total Loss: 1.3332748494576663e-05, pde Loss: 5.78905792281148e-06, Boundary Loss: 0.0, Actual Loss: 7.5436910265125334e-06, Prandtl Number: 0.692135214805603\n"
          ]
        }
      ]
    },
    {
      "cell_type": "code",
      "source": [
        "print(Pr.item())"
      ],
      "metadata": {
        "colab": {
          "base_uri": "https://localhost:8080/"
        },
        "id": "lecAvzd_c2WO",
        "outputId": "cfa0c1ab-f9b6-4226-9cfe-18124c1688db"
      },
      "execution_count": null,
      "outputs": [
        {
          "output_type": "stream",
          "name": "stdout",
          "text": [
            "0.6927605271339417\n"
          ]
        }
      ]
    },
    {
      "cell_type": "code",
      "source": [
        "## Plot for Epoch vs Total Loss\n",
        "plt.plot(range(epochs), loss_history, label='Total Loss')\n",
        "plt.xlabel('Epoch')\n",
        "plt.ylabel('Total Loss')\n",
        "plt.title('Epoch vs Total Loss')\n",
        "plt.legend()\n",
        "plt.show()"
      ],
      "metadata": {
        "colab": {
          "base_uri": "https://localhost:8080/",
          "height": 472
        },
        "id": "FqfITOmgc5EZ",
        "outputId": "d6e298c6-71de-43e7-ce16-181b9152ef07"
      },
      "execution_count": null,
      "outputs": [
        {
          "output_type": "display_data",
          "data": {
            "text/plain": [
              "<Figure size 640x480 with 1 Axes>"
            ],
            "image/png": "[encoded data removed]"
          },
          "metadata": {}
        }
      ]
    },
    {
      "cell_type": "code",
      "source": [
        "gaussian_noise = numpy.random.normal(0, 0.001, column_1_array.shape)\n",
        "column_2_array = column_2_array + gaussian_noise\n",
        "column_3_array = column_3_array + gaussian_noise\n",
        "column_4_array = column_4_array + gaussian_noise\n",
        "f = torch.tensor(column_2_array, dtype=torch.float32).reshape(11,1).view(-1, 1)\n",
        "theta = torch.tensor(column_3_array, dtype=torch.float32).reshape(11,1).view(-1, 1)\n",
        "theta_prime = torch.tensor(column_4_array, dtype=torch.float32).reshape(11,1).view(-1, 1)"
      ],
      "metadata": {
        "id": "9BXsLZTVe4et"
      },
      "execution_count": null,
      "outputs": []
    },
    {
      "cell_type": "code",
      "source": [
        "## Initialization of PINN\n",
        "Pr = torch.tensor([0.5], requires_grad=True)\n",
        "torch.manual_seed(69)\n",
        "pinn4 = PINN(1,40,1,10)\n",
        "parameters4 = [\n",
        "    {'params': pinn4.parameters(), 'lr': 0.0001},\n",
        "    {'params': [Pr], 'lr': 0.025}\n",
        "]\n",
        "optimizer = torch.optim.Adam(parameters4)"
      ],
      "metadata": {
        "id": "ZenAv9zMf0gF"
      },
      "execution_count": null,
      "outputs": []
    },
    {
      "cell_type": "code",
      "source": [
        "## Training Loop\n",
        "epochs = 10000\n",
        "loss_history = []\n",
        "for epoch in range(epochs):\n",
        "\n",
        "  optimizer.zero_grad()\n",
        "\n",
        "  theta_pred, theta_prime_pred, theta_double_prime_pred = pinn4(x_train3)\n",
        "\n",
        "  Actual_loss = (theta-theta_pred).pow(2).mean() + (theta_prime-theta_prime_pred).pow(2).mean() ##+ (theta_double_prime-theta_double_prime_pred).pow(2).mean()\n",
        "\n",
        "  pde_loss = equation_2(theta, theta_prime, theta_double_prime_pred, x_train3, f, Pr).pow(2).mean()\n",
        "\n",
        "  boundary_condition_loss = boundary_conditions_loss1(theta, x_train3)\n",
        "\n",
        "  p1 = 1\n",
        "  p2 = 1\n",
        "  total_loss = pde_loss + p1*boundary_condition_loss + p2*Actual_loss - 11*(3*0.001)**2\n",
        "\n",
        "  total_loss.backward(retain_graph=True)\n",
        "  optimizer.step()\n",
        "  loss_history.append(total_loss.item())\n",
        "  if epoch % 1000 == 0:\n",
        "      print(f\"Epoch {epoch}/{epochs}, Total Loss: {total_loss.item()}, pde Loss: {pde_loss.item()}, Boundary Loss: {boundary_condition_loss.item()}, Actual Loss: {Actual_loss.item()}, Prandtl Number: {Pr.item()}\")"
      ],
      "metadata": {
        "colab": {
          "base_uri": "https://localhost:8080/"
        },
        "id": "NEeUucVUf1mb",
        "outputId": "b1e54663-cb7b-4606-ef9b-14ed9f9f2297"
      },
      "execution_count": null,
      "outputs": [
        {
          "output_type": "stream",
          "name": "stdout",
          "text": [
            "Epoch 0/10000, Total Loss: 0.6037096381187439, pde Loss: 0.0008543532458133996, Boundary Loss: 8.891698826118954e-07, Actual Loss: 0.6029533743858337, Prandtl Number: 0.4750000834465027\n",
            "Epoch 1000/10000, Total Loss: 0.0002186140336561948, pde Loss: 8.311879355460405e-05, Boundary Loss: 8.891698826118954e-07, Actual Loss: 0.00023360605700872838, Prandtl Number: 0.6872624158859253\n",
            "Epoch 2000/10000, Total Loss: -4.529264697339386e-05, pde Loss: 2.658818084455561e-05, Boundary Loss: 8.891698826118954e-07, Actual Loss: 2.6230000003124587e-05, Prandtl Number: 0.6946601867675781\n",
            "Epoch 3000/10000, Total Loss: -6.401418067980558e-05, pde Loss: 1.422269269824028e-05, Boundary Loss: 8.891698826118954e-07, Actual Loss: 1.987395080504939e-05, Prandtl Number: 0.6904710531234741\n",
            "Epoch 4000/10000, Total Loss: -7.776842539897189e-05, pde Loss: 8.267962584795896e-06, Boundary Loss: 8.891698826118954e-07, Actual Loss: 1.2074437108822167e-05, Prandtl Number: 0.690041184425354\n",
            "Epoch 5000/10000, Total Loss: -8.712879935046658e-05, pde Loss: 4.392858500068542e-06, Boundary Loss: 8.891698826118954e-07, Actual Loss: 6.589171789528336e-06, Prandtl Number: 0.6907515525817871\n",
            "Epoch 6000/10000, Total Loss: -9.143488568952307e-05, pde Loss: 2.7090554794995114e-06, Boundary Loss: 8.891698826118954e-07, Actual Loss: 3.966888471040875e-06, Prandtl Number: 0.6922016739845276\n",
            "Epoch 7000/10000, Total Loss: -9.275782940676436e-05, pde Loss: 2.2061769868741976e-06, Boundary Loss: 8.891698826118954e-07, Actual Loss: 3.146820063193445e-06, Prandtl Number: 0.6934770941734314\n",
            "Epoch 8000/10000, Total Loss: -9.332570334663615e-05, pde Loss: 2.032934162343736e-06, Boundary Loss: 8.891698826118954e-07, Actual Loss: 2.752189629973145e-06, Prandtl Number: 0.6944766044616699\n",
            "Epoch 9000/10000, Total Loss: -9.367512393509969e-05, pde Loss: 1.9412780147831654e-06, Boundary Loss: 8.891698826118954e-07, Actual Loss: 2.4944256438175216e-06, Prandtl Number: 0.695264458656311\n"
          ]
        }
      ]
    },
    {
      "cell_type": "code",
      "source": [
        "print(Pr.item())"
      ],
      "metadata": {
        "colab": {
          "base_uri": "https://localhost:8080/"
        },
        "id": "wvUsV_xcgCQY",
        "outputId": "49c50814-d041-4df9-e912-41bcc7e540f2"
      },
      "execution_count": null,
      "outputs": [
        {
          "output_type": "stream",
          "name": "stdout",
          "text": [
            "0.6977475881576538\n"
          ]
        }
      ]
    },
    {
      "cell_type": "code",
      "source": [
        "gaussian_noise = numpy.random.normal(0, 0.01, column_1_array.shape)\n",
        "column_2_array = column_2_array + gaussian_noise\n",
        "column_3_array = column_3_array + gaussian_noise\n",
        "column_4_array = column_4_array + gaussian_noise\n",
        "f = torch.tensor(column_2_array, dtype=torch.float32).reshape(11,1).view(-1, 1)\n",
        "theta = torch.tensor(column_3_array, dtype=torch.float32).reshape(11,1).view(-1, 1)\n",
        "theta_prime = torch.tensor(column_4_array, dtype=torch.float32).reshape(11,1).view(-1, 1)"
      ],
      "metadata": {
        "id": "r7vVBe-5hKCH"
      },
      "execution_count": null,
      "outputs": []
    },
    {
      "cell_type": "code",
      "source": [
        "## Initialization of PINN\n",
        "Pr = torch.tensor([0.5], requires_grad=True)\n",
        "torch.manual_seed(69)\n",
        "pinn5 = PINN(1,40,1,10)\n",
        "parameters5 = [\n",
        "    {'params': pinn5.parameters(), 'lr': 0.0001},\n",
        "    {'params': [Pr], 'lr': 0.025}\n",
        "]\n",
        "optimizer = torch.optim.Adam(parameters5)"
      ],
      "metadata": {
        "id": "zzozPpbdhOLf"
      },
      "execution_count": null,
      "outputs": []
    },
    {
      "cell_type": "code",
      "source": [
        "## Training Loop\n",
        "epochs = 10000\n",
        "loss_history = []\n",
        "for epoch in range(epochs):\n",
        "\n",
        "  optimizer.zero_grad()\n",
        "\n",
        "  theta_pred, theta_prime_pred, theta_double_prime_pred = pinn5(x_train3)\n",
        "\n",
        "  Actual_loss = (theta-theta_pred).pow(2).mean() + (theta_prime-theta_prime_pred).pow(2).mean() ##+ (theta_double_prime-theta_double_prime_pred).pow(2).mean()\n",
        "\n",
        "  pde_loss = equation_2(theta, theta_prime, theta_double_prime_pred, x_train3, f, Pr).pow(2).mean()\n",
        "\n",
        "  boundary_condition_loss = boundary_conditions_loss1(theta, x_train3)\n",
        "\n",
        "  p1 = 1\n",
        "  p2 = 1\n",
        "  total_loss = pde_loss + p1*boundary_condition_loss + p2*Actual_loss - 11*(3*0.01)**2\n",
        "\n",
        "  total_loss.backward(retain_graph=True)\n",
        "  optimizer.step()\n",
        "  loss_history.append(total_loss.item())\n",
        "  if epoch % 1000 == 0:\n",
        "      print(f\"Epoch {epoch}/{epochs}, Total Loss: {total_loss.item()}, pde Loss: {pde_loss.item()}, Boundary Loss: {boundary_condition_loss.item()}, Actual Loss: {Actual_loss.item()}, Prandtl Number: {Pr.item()}\")"
      ],
      "metadata": {
        "colab": {
          "base_uri": "https://localhost:8080/"
        },
        "id": "3TZMsaQUhU1J",
        "outputId": "99694be2-88b8-4f96-e03e-1621b26e33b8"
      },
      "execution_count": null,
      "outputs": [
        {
          "output_type": "stream",
          "name": "stdout",
          "text": [
            "Epoch 0/10000, Total Loss: 0.5925911068916321, pde Loss: 0.0008653145632706583, Boundary Loss: 0.0002682073100004345, Actual Loss: 0.6013575792312622, Prandtl Number: 0.4750000834465027\n",
            "Epoch 1000/10000, Total Loss: -0.009178281761705875, pde Loss: 0.00015152849664445966, Boundary Loss: 0.0002682073100004345, Actual Loss: 0.0003019820724148303, Prandtl Number: 0.6483398675918579\n",
            "Epoch 2000/10000, Total Loss: -0.009399435482919216, pde Loss: 0.00010723008745117113, Boundary Loss: 0.0002682073100004345, Actual Loss: 0.00012512734974734485, Prandtl Number: 0.6536150574684143\n",
            "Epoch 3000/10000, Total Loss: -0.009438005276024342, pde Loss: 8.504260767949745e-05, Boundary Loss: 0.0002682073100004345, Actual Loss: 0.00010874452709686011, Prandtl Number: 0.6481258273124695\n",
            "Epoch 4000/10000, Total Loss: -0.009464967995882034, pde Loss: 7.404158532153815e-05, Boundary Loss: 0.0002682073100004345, Actual Loss: 9.278316429117694e-05, Prandtl Number: 0.6479671001434326\n",
            "Epoch 5000/10000, Total Loss: -0.009485550224781036, pde Loss: 6.744377606082708e-05, Boundary Loss: 0.0002682073100004345, Actual Loss: 7.879863551352173e-05, Prandtl Number: 0.6506902575492859\n",
            "Epoch 6000/10000, Total Loss: -0.009492187760770321, pde Loss: 6.626276444876567e-05, Boundary Loss: 0.0002682073100004345, Actual Loss: 7.334181282203645e-05, Prandtl Number: 0.6533938646316528\n",
            "Epoch 7000/10000, Total Loss: -0.009493877179920673, pde Loss: 6.624958768952638e-05, Boundary Loss: 0.0002682073100004345, Actual Loss: 7.166607247199863e-05, Prandtl Number: 0.6548407673835754\n",
            "Epoch 8000/10000, Total Loss: -0.009494843892753124, pde Loss: 6.62310267216526e-05, Boundary Loss: 0.0002682073100004345, Actual Loss: 7.071756408549845e-05, Prandtl Number: 0.6557817459106445\n",
            "Epoch 9000/10000, Total Loss: -0.009495517238974571, pde Loss: 6.615224265260622e-05, Boundary Loss: 0.0002682073100004345, Actual Loss: 7.012298738118261e-05, Prandtl Number: 0.6564159989356995\n"
          ]
        }
      ]
    },
    {
      "cell_type": "code",
      "source": [
        "print(Pr.item())"
      ],
      "metadata": {
        "colab": {
          "base_uri": "https://localhost:8080/"
        },
        "id": "TyY4kDqthe2H",
        "outputId": "e04a5189-c905-43a1-b856-9b70009e96c3"
      },
      "execution_count": null,
      "outputs": [
        {
          "output_type": "stream",
          "name": "stdout",
          "text": [
            "0.6568371057510376\n"
          ]
        }
      ]
    },
    {
      "cell_type": "code",
      "source": [
        "column_arrays = [df_copy.iloc[:, i].to_numpy() for i in range(df_selected.shape[1])]\n",
        "column_1_array = column_arrays[0]\n",
        "column_2_array = column_arrays[1]\n",
        "column_3_array = column_arrays[2]\n",
        "column_4_array = column_arrays[3]\n",
        "column_1_array = column_1_array[::10000]\n",
        "column_2_array = column_2_array[::10000]\n",
        "column_3_array = column_3_array[::10000]\n",
        "column_4_array = column_4_array[::10000]\n",
        "eta = torch.tensor(column_1_array, dtype=torch.float32).reshape(101,1).view(-1, 1)\n",
        "f = torch.tensor(column_2_array, dtype=torch.float32).reshape(101,1).view(-1, 1)\n",
        "theta = torch.tensor(column_3_array, dtype=torch.float32).reshape(101,1).view(-1, 1)\n",
        "theta_prime = torch.tensor(column_4_array, dtype=torch.float32).reshape(101,1).view(-1, 1)"
      ],
      "metadata": {
        "id": "LAqgdz-c-JCR"
      },
      "execution_count": null,
      "outputs": []
    },
    {
      "cell_type": "code",
      "source": [
        "gaussian_noise = numpy.random.normal(0, 0.01, column_1_array.shape)\n",
        "column_2_array = column_2_array + gaussian_noise\n",
        "column_3_array = column_3_array + gaussian_noise\n",
        "column_4_array = column_4_array + gaussian_noise\n",
        "f = torch.tensor(column_2_array, dtype=torch.float32).reshape(101,1).view(-1, 1)\n",
        "theta = torch.tensor(column_3_array, dtype=torch.float32).reshape(101,1).view(-1, 1)\n",
        "theta_prime = torch.tensor(column_4_array, dtype=torch.float32).reshape(101,1).view(-1, 1)"
      ],
      "metadata": {
        "id": "jZbKdUE5-RQ3"
      },
      "execution_count": null,
      "outputs": []
    },
    {
      "cell_type": "code",
      "source": [
        "## Initialization of PINN\n",
        "Pr = torch.tensor([0.5], requires_grad=True)\n",
        "torch.manual_seed(69)\n",
        "pinn6 = PINN(1,40,1,10)\n",
        "parameters6 = [\n",
        "    {'params': pinn6.parameters(), 'lr': 0.0001},\n",
        "    {'params': [Pr], 'lr': 0.025}\n",
        "]\n",
        "optimizer = torch.optim.Adam(parameters6)"
      ],
      "metadata": {
        "id": "jG04wmSv-SJE"
      },
      "execution_count": null,
      "outputs": []
    },
    {
      "cell_type": "code",
      "source": [
        "## Training Loop\n",
        "epochs = 10000\n",
        "loss_history = []\n",
        "for epoch in range(epochs):\n",
        "\n",
        "  optimizer.zero_grad()\n",
        "\n",
        "  theta_pred, theta_prime_pred, theta_double_prime_pred = pinn6(x_train2)\n",
        "\n",
        "  Actual_loss = (theta-theta_pred).pow(2).mean() + (theta_prime-theta_prime_pred).pow(2).mean() ##+ (theta_double_prime-theta_double_prime_pred).pow(2).mean()\n",
        "\n",
        "  pde_loss = equation_2(theta, theta_prime, theta_double_prime_pred, x_train2, f, Pr).pow(2).mean()\n",
        "\n",
        "  boundary_condition_loss = boundary_conditions_loss1(theta, x_train2)\n",
        "\n",
        "  p1 = 1\n",
        "  p2 = 1\n",
        "  total_loss = pde_loss + p1*boundary_condition_loss + p2*Actual_loss - 101*(3*0.01)**2\n",
        "\n",
        "  total_loss.backward(retain_graph=True)\n",
        "  optimizer.step()\n",
        "  loss_history.append(total_loss.item())\n",
        "  if epoch % 1000 == 0:\n",
        "      print(f\"Epoch {epoch}/{epochs}, Total Loss: {total_loss.item()}, pde Loss: {pde_loss.item()}, Boundary Loss: {boundary_condition_loss.item()}, Actual Loss: {Actual_loss.item()}, Prandtl Number: {Pr.item()}\")"
      ],
      "metadata": {
        "colab": {
          "base_uri": "https://localhost:8080/"
        },
        "id": "tkzS5lf4-ZAd",
        "outputId": "4ff92b0d-dc2e-4c54-b159-7cbe5a06f894"
      },
      "execution_count": null,
      "outputs": [
        {
          "output_type": "stream",
          "name": "stdout",
          "text": [
            "Epoch 0/10000, Total Loss: 0.5253406167030334, pde Loss: 0.0010669986950233579, Boundary Loss: 0.00014052468759473413, Actual Loss: 0.6150330901145935, Prandtl Number: 0.4750000536441803\n",
            "Epoch 1000/10000, Total Loss: -0.0899805948138237, pde Loss: 0.00031452119583263993, Boundary Loss: 0.00014052468759473413, Actual Loss: 0.0004643567372113466, Prandtl Number: 0.6012060642242432\n",
            "Epoch 2000/10000, Total Loss: -0.09035024791955948, pde Loss: 0.0001998414663830772, Boundary Loss: 0.00014052468759473413, Actual Loss: 0.00020938541274517775, Prandtl Number: 0.6107372045516968\n",
            "Epoch 3000/10000, Total Loss: -0.09036625921726227, pde Loss: 0.00018811725021805614, Boundary Loss: 0.00014052468759473413, Actual Loss: 0.00020509521709755063, Prandtl Number: 0.6088052988052368\n",
            "Epoch 4000/10000, Total Loss: -0.0903749018907547, pde Loss: 0.0001838325260905549, Boundary Loss: 0.00014052468759473413, Actual Loss: 0.00020074003259651363, Prandtl Number: 0.6095564365386963\n",
            "Epoch 5000/10000, Total Loss: -0.09038074314594269, pde Loss: 0.00018070398073177785, Boundary Loss: 0.00014052468759473413, Actual Loss: 0.0001980241504497826, Prandtl Number: 0.6102254390716553\n",
            "Epoch 6000/10000, Total Loss: -0.09038427472114563, pde Loss: 0.00017839930660557002, Boundary Loss: 0.00014052468759473413, Actual Loss: 0.00019679978140629828, Prandtl Number: 0.6107562184333801\n",
            "Epoch 7000/10000, Total Loss: -0.0903857946395874, pde Loss: 0.0001768845977494493, Boundary Loss: 0.00014052468759473413, Actual Loss: 0.00019679567776620388, Prandtl Number: 0.6111839413642883\n",
            "Epoch 8000/10000, Total Loss: -0.09038622677326202, pde Loss: 0.00017600665159989148, Boundary Loss: 0.00014052468759473413, Actual Loss: 0.0001972388563444838, Prandtl Number: 0.6110035181045532\n",
            "Epoch 9000/10000, Total Loss: -0.09038171917200089, pde Loss: 0.00017458861111663282, Boundary Loss: 0.00014052468759473413, Actual Loss: 0.00020316308655310422, Prandtl Number: 0.6101597547531128\n"
          ]
        }
      ]
    },
    {
      "cell_type": "code",
      "source": [
        "print(Pr.item())"
      ],
      "metadata": {
        "colab": {
          "base_uri": "https://localhost:8080/"
        },
        "id": "hnLvAvV5-97A",
        "outputId": "e82c5dbe-ba6d-403a-e01d-f9a53255e608"
      },
      "execution_count": null,
      "outputs": [
        {
          "output_type": "stream",
          "name": "stdout",
          "text": [
            "0.6110538840293884\n"
          ]
        }
      ]
    }
  ]
}